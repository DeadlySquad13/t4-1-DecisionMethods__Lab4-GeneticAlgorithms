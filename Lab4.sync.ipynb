{
 "cells": [
  {
   "cell_type": "markdown",
   "metadata": {
    "id": "is-U4mv5H13A"
   },
   "source": [
    "# Лабораторная работа №4\n",
    "# Решение оптимизационных задач с помощью генетических алгоритмов"
   ]
  },
  {
   "cell_type": "markdown",
   "metadata": {
    "id": "a7_wZHwIH7MX"
   },
   "source": [
    "# Задание\n",
    "\n",
    "Лабораторная работа состоит из двух частей:\n",
    "\n",
    "I. Использование генетического алгоритма для оптимизации раскладки клавиатуру для заданных слов;\n",
    "\n",
    "II. Использование генетических алгоритмов для обучения интеллектуальных агентов.\n",
    "\n",
    "Для выполнениче части I. требуется проделать следующие шаги:\n",
    "\n",
    "1. Загрузить необходимые файлы (вариант со списком слов, макет клавиатуры и набор шрифтов).\n",
    "2. Загрузить файл клавиатуры и шрифта в GoogleColab\n",
    "3. Выбрать 3 слова согласно варианту и для каждого найти оптимальные раскладки клавиатуры, и визуализировать их с помощью макета и набора шрифтов. Если в слове присутствует дефис, то либо заменить на пробел, либо писать слитно.\n",
    "\n",
    "Для выполнение части II. требуется выполнить следующие шаги:\n",
    "\n",
    "1. Выбрать одну из предложенных игр с реализацией на JavaScript.\n",
    "2. Обучить интеллектуального агента с помощью генетического алгоритма в среде без графического интерфейса на Python. В случае необходимости модифицировать код для получения лучших результатов.\n",
    "3. Проверить качество агента в первоначальной среде на JavaScript.\n",
    "\n",
    "Критерием выполнения II. части лабораторной работы является продолжительность жизни интеллектуального агента по результатам 3 партий. Среднее значение должно равняться не менее 30 секунд. При этом агент НЕ должен бездействовать.\n",
    "\n",
    "Лабораторные выполняются на платформе Google Colab - просто перейдите по ссылке в начале ноутбука. Также можно работать с ноутбуками лабораторных локально.\n",
    "\n",
    "Отчет должен содержать: титульный лист, задание с вариантом, скриншоты и краткие пояснения по каждому этапу лабораторной работы."
   ]
  },
  {
   "cell_type": "markdown",
   "metadata": {
    "id": "kg21nWzoJPlE"
   },
   "source": [
    "# Импорт библиотек"
   ]
  },
  {
   "cell_type": "code",
   "execution_count": 4,
   "metadata": {
    "id": "oPdjAxp-JPDi"
   },
   "outputs": [],
   "source": [
    "from PIL import Image, ImageDraw, ImageFont\n",
    "\n",
    "import json\n",
    "import os\n",
    "import random\n",
    "import numpy as np\n",
    "import pandas as pd\n",
    "import matplotlib.pyplot as plt\n",
    "import seaborn as sns\n",
    "\n",
    "%matplotlib inline\n",
    "sns.set(style='ticks')"
   ]
  },
  {
   "cell_type": "markdown",
   "metadata": {
    "id": "RMI0qKE9Je8O"
   },
   "source": [
    "# Часть 1\n",
    "\n",
    "По варианту нам достались следующие слова: уменьшительно-ласкательное, абстрагироваться и образование."
   ]
  },
  {
   "cell_type": "code",
   "execution_count": 5,
   "metadata": {
    "colab": {
     "base_uri": "https://localhost:8080/",
     "height": 1000
    },
    "id": "-UAowSnTHdiC",
    "outputId": "ec700f8b-4033-4602-bee0-4198826b77f8"
   },
   "outputs": [
    {
     "name": "stderr",
     "output_type": "stream",
     "text": [
      "C:\\Users\\ds13\\AppData\\Local\\Temp\\ipykernel_35776\\2531730597.py:9: FutureWarning: The default value of regex will change from True to False in a future version.\n",
      "  df.msg = df.msg.str.replace('ё', 'е').str.replace(u'\\xa0', u' ').str.replace(u'\\-', u' ')\n",
      "C:\\Users\\ds13\\AppData\\Local\\Temp\\ipykernel_35776\\2531730597.py:10: FutureWarning: The default value of regex will change from True to False in a future version.\n",
      "  df.msg = df.msg.str.replace('[^a-zа-я0-9\\s?,.!]', '')\n",
      "C:\\Users\\ds13\\AppData\\Local\\Temp\\ipykernel_35776\\2531730597.py:16: DeprecationWarning: `np.bool8` is a deprecated alias for `np.bool_`.  (Deprecated NumPy 1.24)\n",
      "  diffs_boolean_mask = np.ones(len(sequence)-1, dtype=np.bool8)\n"
     ]
    },
    {
     "data": {
      "text/html": [
       "<div>\n",
       "<style scoped>\n",
       "    .dataframe tbody tr th:only-of-type {\n",
       "        vertical-align: middle;\n",
       "    }\n",
       "\n",
       "    .dataframe tbody tr th {\n",
       "        vertical-align: top;\n",
       "    }\n",
       "\n",
       "    .dataframe thead th {\n",
       "        text-align: right;\n",
       "    }\n",
       "</style>\n",
       "<table border=\"1\" class=\"dataframe\">\n",
       "  <thead>\n",
       "    <tr style=\"text-align: right;\">\n",
       "      <th></th>\n",
       "      <th>biseq</th>\n",
       "      <th>freq</th>\n",
       "    </tr>\n",
       "  </thead>\n",
       "  <tbody>\n",
       "    <tr>\n",
       "      <th>0</th>\n",
       "      <td>но</td>\n",
       "      <td>2000</td>\n",
       "    </tr>\n",
       "    <tr>\n",
       "      <th>1</th>\n",
       "      <td>ат</td>\n",
       "      <td>2000</td>\n",
       "    </tr>\n",
       "    <tr>\n",
       "      <th>2</th>\n",
       "      <td>ов</td>\n",
       "      <td>2000</td>\n",
       "    </tr>\n",
       "    <tr>\n",
       "      <th>3</th>\n",
       "      <td>те</td>\n",
       "      <td>2000</td>\n",
       "    </tr>\n",
       "    <tr>\n",
       "      <th>4</th>\n",
       "      <td>ел</td>\n",
       "      <td>2000</td>\n",
       "    </tr>\n",
       "    <tr>\n",
       "      <th>5</th>\n",
       "      <td>ль</td>\n",
       "      <td>2000</td>\n",
       "    </tr>\n",
       "    <tr>\n",
       "      <th>6</th>\n",
       "      <td>ьн</td>\n",
       "      <td>2000</td>\n",
       "    </tr>\n",
       "    <tr>\n",
       "      <th>7</th>\n",
       "      <td>ра</td>\n",
       "      <td>2000</td>\n",
       "    </tr>\n",
       "    <tr>\n",
       "      <th>8</th>\n",
       "      <td>ва</td>\n",
       "      <td>2000</td>\n",
       "    </tr>\n",
       "    <tr>\n",
       "      <th>9</th>\n",
       "      <td>ьс</td>\n",
       "      <td>1000</td>\n",
       "    </tr>\n",
       "    <tr>\n",
       "      <th>10</th>\n",
       "      <td>ги</td>\n",
       "      <td>1000</td>\n",
       "    </tr>\n",
       "    <tr>\n",
       "      <th>11</th>\n",
       "      <td>ир</td>\n",
       "      <td>1000</td>\n",
       "    </tr>\n",
       "    <tr>\n",
       "      <th>12</th>\n",
       "      <td>ро</td>\n",
       "      <td>1000</td>\n",
       "    </tr>\n",
       "    <tr>\n",
       "      <th>13</th>\n",
       "      <td>ть</td>\n",
       "      <td>1000</td>\n",
       "    </tr>\n",
       "    <tr>\n",
       "      <th>14</th>\n",
       "      <td>ум</td>\n",
       "      <td>1000</td>\n",
       "    </tr>\n",
       "    <tr>\n",
       "      <th>15</th>\n",
       "      <td>ся</td>\n",
       "      <td>1000</td>\n",
       "    </tr>\n",
       "    <tr>\n",
       "      <th>16</th>\n",
       "      <td>об</td>\n",
       "      <td>1000</td>\n",
       "    </tr>\n",
       "    <tr>\n",
       "      <th>17</th>\n",
       "      <td>бр</td>\n",
       "      <td>1000</td>\n",
       "    </tr>\n",
       "    <tr>\n",
       "      <th>18</th>\n",
       "      <td>аз</td>\n",
       "      <td>1000</td>\n",
       "    </tr>\n",
       "    <tr>\n",
       "      <th>19</th>\n",
       "      <td>зо</td>\n",
       "      <td>1000</td>\n",
       "    </tr>\n",
       "    <tr>\n",
       "      <th>20</th>\n",
       "      <td>ан</td>\n",
       "      <td>1000</td>\n",
       "    </tr>\n",
       "    <tr>\n",
       "      <th>21</th>\n",
       "      <td>ни</td>\n",
       "      <td>1000</td>\n",
       "    </tr>\n",
       "    <tr>\n",
       "      <th>22</th>\n",
       "      <td>аг</td>\n",
       "      <td>1000</td>\n",
       "    </tr>\n",
       "    <tr>\n",
       "      <th>23</th>\n",
       "      <td>аб</td>\n",
       "      <td>1000</td>\n",
       "    </tr>\n",
       "    <tr>\n",
       "      <th>24</th>\n",
       "      <td>тр</td>\n",
       "      <td>1000</td>\n",
       "    </tr>\n",
       "    <tr>\n",
       "      <th>25</th>\n",
       "      <td>л</td>\n",
       "      <td>1000</td>\n",
       "    </tr>\n",
       "    <tr>\n",
       "      <th>26</th>\n",
       "      <td>ен</td>\n",
       "      <td>1000</td>\n",
       "    </tr>\n",
       "    <tr>\n",
       "      <th>27</th>\n",
       "      <td>нь</td>\n",
       "      <td>1000</td>\n",
       "    </tr>\n",
       "    <tr>\n",
       "      <th>28</th>\n",
       "      <td>ьш</td>\n",
       "      <td>1000</td>\n",
       "    </tr>\n",
       "    <tr>\n",
       "      <th>29</th>\n",
       "      <td>ши</td>\n",
       "      <td>1000</td>\n",
       "    </tr>\n",
       "    <tr>\n",
       "      <th>30</th>\n",
       "      <td>ит</td>\n",
       "      <td>1000</td>\n",
       "    </tr>\n",
       "    <tr>\n",
       "      <th>31</th>\n",
       "      <td>о</td>\n",
       "      <td>1000</td>\n",
       "    </tr>\n",
       "    <tr>\n",
       "      <th>32</th>\n",
       "      <td>ла</td>\n",
       "      <td>1000</td>\n",
       "    </tr>\n",
       "    <tr>\n",
       "      <th>33</th>\n",
       "      <td>ст</td>\n",
       "      <td>1000</td>\n",
       "    </tr>\n",
       "    <tr>\n",
       "      <th>34</th>\n",
       "      <td>ас</td>\n",
       "      <td>1000</td>\n",
       "    </tr>\n",
       "    <tr>\n",
       "      <th>35</th>\n",
       "      <td>ск</td>\n",
       "      <td>1000</td>\n",
       "    </tr>\n",
       "    <tr>\n",
       "      <th>36</th>\n",
       "      <td>ка</td>\n",
       "      <td>1000</td>\n",
       "    </tr>\n",
       "    <tr>\n",
       "      <th>37</th>\n",
       "      <td>ое</td>\n",
       "      <td>1000</td>\n",
       "    </tr>\n",
       "    <tr>\n",
       "      <th>38</th>\n",
       "      <td>ме</td>\n",
       "      <td>1000</td>\n",
       "    </tr>\n",
       "    <tr>\n",
       "      <th>39</th>\n",
       "      <td>бс</td>\n",
       "      <td>1000</td>\n",
       "    </tr>\n",
       "    <tr>\n",
       "      <th>40</th>\n",
       "      <td>ие</td>\n",
       "      <td>1000</td>\n",
       "    </tr>\n",
       "  </tbody>\n",
       "</table>\n",
       "</div>"
      ],
      "text/plain": [
       "   biseq  freq\n",
       "0     но  2000\n",
       "1     ат  2000\n",
       "2     ов  2000\n",
       "3     те  2000\n",
       "4     ел  2000\n",
       "5     ль  2000\n",
       "6     ьн  2000\n",
       "7     ра  2000\n",
       "8     ва  2000\n",
       "9     ьс  1000\n",
       "10    ги  1000\n",
       "11    ир  1000\n",
       "12    ро  1000\n",
       "13    ть  1000\n",
       "14    ум  1000\n",
       "15    ся  1000\n",
       "16    об  1000\n",
       "17    бр  1000\n",
       "18    аз  1000\n",
       "19    зо  1000\n",
       "20    ан  1000\n",
       "21    ни  1000\n",
       "22    аг  1000\n",
       "23    аб  1000\n",
       "24    тр  1000\n",
       "25     л  1000\n",
       "26    ен  1000\n",
       "27    нь  1000\n",
       "28    ьш  1000\n",
       "29    ши  1000\n",
       "30    ит  1000\n",
       "31    о   1000\n",
       "32    ла  1000\n",
       "33    ст  1000\n",
       "34    ас  1000\n",
       "35    ск  1000\n",
       "36    ка  1000\n",
       "37    ое  1000\n",
       "38    ме  1000\n",
       "39    бс  1000\n",
       "40    ие  1000"
      ]
     },
     "execution_count": 5,
     "metadata": {},
     "output_type": "execute_result"
    }
   ],
   "source": [
    "# Список слов согласно варианту\n",
    "messages = [np.random.choice(['уменьшительно-ласкательное'], size=1000),\n",
    "            np.random.choice(['абстрагироваться'], size=1000),\n",
    "            np.random.choice(['образование'], size=1000)]\n",
    "\n",
    "# Предобработка слов\n",
    "df = pd.DataFrame(dict(msg=np.concatenate(messages)))\n",
    "df.msg = df.msg.str.lower()\n",
    "df.msg = df.msg.str.replace('ё', 'е').str.replace(u'\\xa0', u' ').str.replace(u'\\-', u' ')\n",
    "df.msg = df.msg.str.replace('[^a-zа-я0-9\\s?,.!]', '')\n",
    "\n",
    "sequence = list(''.join(df[~df.msg.isna()].msg.values))\n",
    "charmap = np.unique(sequence)\n",
    "\n",
    "diffs_mask = df[~df.msg.isna()].msg.str.len().cumsum().values.copy()[:-1] - 1\n",
    "diffs_boolean_mask = np.ones(len(sequence)-1, dtype=np.bool8)\n",
    "diffs_boolean_mask[diffs_mask] = 0\n",
    "sequence = list(''.join(df[~df.msg.isna()].msg.values))\n",
    "bisequence = (pd.Series(sequence[:-1])+pd.Series(sequence[1:]))\n",
    "BISEQUENCE_FREQS = bisequence.loc[diffs_boolean_mask].value_counts().reset_index()\n",
    "BISEQUENCE_FREQS.columns = ['biseq', 'freq']\n",
    "BISEQUENCE_FREQS"
   ]
  },
  {
   "cell_type": "markdown",
   "metadata": {
    "id": "NabHtPpGH1DY"
   },
   "source": [
    "Инициализируем значения для настройки клавиатуры"
   ]
  },
  {
   "cell_type": "code",
   "execution_count": 6,
   "metadata": {
    "id": "2bgk2SQ-NUVC"
   },
   "outputs": [],
   "source": [
    "# Инициализация раскладки клавиатуры\n",
    "FIRST_ROW = [list('1234567890')]\n",
    "SECOND_ROW = [list('йцукенгшщзх')]\n",
    "THIRD_ROW = [list('фывапролджэ')]\n",
    "FOURTH_ROW = [list('ячсмитьбю')]\n",
    "FIFTH_ROW = [list(', .\\n')]\n",
    "ROWS = [FIRST_ROW, SECOND_ROW, THIRD_ROW, FOURTH_ROW, FIFTH_ROW]\n",
    "\n",
    "KEYBINDS = \\\n",
    "[\n",
    "# Первый ряд\n",
    "[(68,68), (174, 68), (280, 68), (385, 68), (485, 68),\n",
    " (585, 68), (685, 68), (790, 68), (905, 68), (1010, 68)],\n",
    "# Второй ряд\n",
    "[(60, 201),(155, 201),(255, 201),(345, 201),(445, 201),\n",
    " (540, 201),(635, 201),(730, 201),(820, 201),(920, 201),(1015, 201)],\n",
    "# Третий ряд\n",
    "[(60, 350),(155, 350),(255, 350),(345, 350),(445, 350),\n",
    " (540, 350),(635, 350),(730, 350),(820, 350),(920, 350),(1015, 350)],\n",
    "# Четвёртый ряд\n",
    "[(155, 500),(255, 500),(345, 500),(445, 500),\n",
    " (540, 500),(635, 500),(730, 500),(820, 500),(920, 500)],\n",
    "# Пятый ряд\n",
    "[(224, 645),(530, 645),(855, 645),(980, 645)],\n",
    "]"
   ]
  },
  {
   "cell_type": "code",
   "execution_count": 7,
   "metadata": {
    "id": "bKYRuSMyOLsR"
   },
   "outputs": [],
   "source": [
    "# Функция генерации раскладки\n",
    "def generate_one():\n",
    "    # mapper — это хромосома одной особи\n",
    "    mapper = {}\n",
    "    for k, row in enumerate(ROWS):\n",
    "        for chng, row_lang in enumerate(row):\n",
    "            for i, s in enumerate(row_lang):\n",
    "                mapper[s] = (KEYBINDS[k][i][0]//10, KEYBINDS[k][i][1]//10)\n",
    "    return mapper"
   ]
  },
  {
   "cell_type": "code",
   "execution_count": 8,
   "metadata": {
    "id": "qhzILsONOaMQ"
   },
   "outputs": [],
   "source": [
    "# Функция отрисовки клавиатуры\n",
    "def plot_keyboard(mapper, generation=0):\n",
    "    keyboard_img = Image.open('keyboard.png').convert('RGB')\n",
    "    d = ImageDraw.Draw(keyboard_img)\n",
    "    font = ImageFont.truetype(\"Roboto-Bold.ttf\", 30)\n",
    "    for s, v in mapper.items():\n",
    "        if s=='\\n':\n",
    "            s = 'Ent'\n",
    "        if s==' ':\n",
    "            s = '__'\n",
    "        x, y = v[0]*10, v[1]*10\n",
    "\n",
    "        d.text((x, y), s, font=font, fill=(255, 255, 255, 255))\n",
    "    return keyboard_img.resize((500, 250))"
   ]
  },
  {
   "cell_type": "code",
   "execution_count": 10,
   "metadata": {
    "colab": {
     "base_uri": "https://localhost:8080/",
     "height": 267
    },
    "id": "JTIwa1UyOnCK",
    "outputId": "587d8b56-9f0d-411e-a354-dd33db331318",
    "scrolled": true
   },
   "outputs": [
    {
     "data": {
      "image/png": "[encoded data removed]",
      "text/plain": [
       "<PIL.Image.Image image mode=RGB size=500x250>"
      ]
     },
     "execution_count": 10,
     "metadata": {},
     "output_type": "execute_result"
    }
   ],
   "source": [
    "# Проврека корректности работы функции отрисовки клавиатуры\n",
    "plot_keyboard(generate_one())"
   ]
  },
  {
   "cell_type": "markdown",
   "metadata": {
    "id": "j0S_0wezO1x5"
   },
   "source": [
    "## Генетический алгоритм"
   ]
  },
  {
   "cell_type": "markdown",
   "metadata": {
    "id": "LPDNtZtAO6lQ"
   },
   "source": [
    "### Функция приспособленности"
   ]
  },
  {
   "cell_type": "code",
   "execution_count": 11,
   "metadata": {
    "id": "EroGg_C1O-ZU"
   },
   "outputs": [],
   "source": [
    "# Функция приспособленности должна минимизировать расстояние, требуемое для написания слов\n",
    "def get_scores(population):\n",
    "    scores = []\n",
    "    for new_mapper in population:\n",
    "        cache = {}\n",
    "        for i in charmap:\n",
    "            for j in charmap:\n",
    "                cache[i+j] = \\\n",
    "                    np.square(np.array(new_mapper.get(i, [-100, -100])) -\n",
    "                              np.array(new_mapper.get(j, [-100, -100]))).sum()**0.5\n",
    "\n",
    "        weights = BISEQUENCE_FREQS.biseq.map(cache)\n",
    "        scores.append(BISEQUENCE_FREQS['freq'].dot(weights))\n",
    "    return scores"
   ]
  },
  {
   "cell_type": "markdown",
   "metadata": {
    "id": "Q4oEbwVuPGrm"
   },
   "source": [
    "### Функции мутации и скрещивания"
   ]
  },
  {
   "cell_type": "code",
   "execution_count": 12,
   "metadata": {
    "id": "k0bkuIuyPNKQ"
   },
   "outputs": [],
   "source": [
    "# Функция мутации\n",
    "def mutation(thingey, mutation_rate=0.05):\n",
    "    # Мутация меняет местами mutation_rate*100 % клавиш друг с другом \n",
    "    keys = list(thingey.keys())\n",
    "    values = list(thingey.values())\n",
    "\n",
    "    mutation = (np.random.random(size=len(values))<mutation_rate).nonzero()[0]\n",
    "    swap_index_to = np.random.choice(len(values),\n",
    "                                     size=len(values),\n",
    "                                     replace=False)\n",
    "\n",
    "    new_values = np.array(values)\n",
    "    for i, j in zip(mutation, swap_index_to[mutation]):\n",
    "        new_values[[i,j]] = new_values[[j,i]]\n",
    "\n",
    "    return {k:v for k,v in zip(keys, new_values)}\n",
    "\n",
    "# Функция скрещивания\n",
    "def crossover(thingeyA, thingeyB):\n",
    "    # Скрещивание между двумя особями заменяет n-ое количество клавиш 1ой особи\n",
    "    # n-ым количеством клавиш второй особи с сохранением \n",
    "    # порядка их встречаемости на раскладке (приоритет сверху-вниз, слево-направо) \n",
    "    keysA = list(thingeyA.keys())\n",
    "    valuesA = list(thingeyA.values())\n",
    "\n",
    "    keysB = list(thingeyB.keys())\n",
    "    valuesB = list(thingeyB.values())\n",
    "\n",
    "    ranksA = np.argsort(keysA)\n",
    "\n",
    "    keysA = np.array(keysA)[ranksA].copy()\n",
    "    keysB = np.array(keysB)[ranksA].copy()\n",
    "    valuesA = np.array(valuesA)[ranksA].copy()\n",
    "    valuesB = np.array(valuesB)[ranksA].copy()\n",
    "\n",
    "    offset = np.random.randint(1, max(2, len(valuesA)-1))\n",
    "    offspring = {k:v for k, v in zip(keysA[:offset], valuesA[:offset])}\n",
    "\n",
    "    keysO = list(offspring.keys())\n",
    "    valuesO = list(offspring.values())\n",
    "\n",
    "    keys_rest = list(filter(lambda k: k not in offspring, thingeyB.keys()))\n",
    "    valuesRest = valuesA[offset:]\n",
    "    values = valuesB[offset:]\n",
    "    ranking = (\n",
    "        values + \n",
    "        (np.max(values)+1)**np.arange(len(values[0])).reshape(1, -1)\n",
    "               ).sum(axis=1).argsort()\n",
    "    for k, v in zip(keys_rest, valuesRest[ranking]):\n",
    "        offspring[k] = v\n",
    "\n",
    "    # Проверка, что клавиши не потерялись и не задублировались\n",
    "    assert set(offspring.keys()\n",
    "    ).symmetric_difference(thingeyA.keys()).__len__()==0\n",
    "    assert set(map(tuple, offspring.values())\n",
    "    ).symmetric_difference(set(map(tuple, thingeyA.values()))).__len__()==0\n",
    "    return offspring"
   ]
  },
  {
   "cell_type": "markdown",
   "metadata": {
    "id": "sPqxrX7LPgwN"
   },
   "source": [
    "### Функции генерации начальной и новой популяций"
   ]
  },
  {
   "cell_type": "code",
   "execution_count": 13,
   "metadata": {
    "id": "z74t7e5pPga8"
   },
   "outputs": [],
   "source": [
    "# Генерация начальной популяции\n",
    "def generate_initial(POPULATION_SIZE, mrate=0.0):\n",
    "    # Первая раскладка неизменённая (может быть лучшее решение)\n",
    "    population = [mutation(generate_one(), mutation_rate=0.0)]\n",
    "\n",
    "    # Остальные со случайными перестановками клавиш\n",
    "    for _ in range(max(0, POPULATION_SIZE - 1)):\n",
    "        population.append(mutation(generate_one(), mutation_rate=mrate))\n",
    "    return population\n",
    "\n",
    "def generate_new_population(population, scores,\n",
    "                            population_size=10,\n",
    "                            elite_topk=1,\n",
    "                            random_size=2,\n",
    "                            ):\n",
    "    new_population = []\n",
    "    # Элитизм\n",
    "    for topK in range(elite_topk):\n",
    "        new_population.append(population[np.argsort(scores)[topK]].copy())\n",
    "    # Трансформация функции приспособленности\n",
    "    # оценка -> ранг -> экспоненцирование -> нормализация\n",
    "    scores_ranks = scores.copy()\n",
    "    for i, r in enumerate(np.argsort(scores)):\n",
    "        scores_ranks[r] = i\n",
    "    scores_ranks = np.exp(-np.array(scores_ranks)/len(scores_ranks)*4)\n",
    "    scores_ranks /= scores_ranks.sum()\n",
    "\n",
    "    # Рулеточный отбор особей для продолжения потомства\n",
    "    for _ in range(max(0, population_size - elite_topk - random_size)):\n",
    "        parentA, parentB = np.random.choice(len(scores), size=2, replace=True, p=scores_ranks)\n",
    "        new_population.append(mutation(crossover(population[parentA], population[parentB])))\n",
    "    # Добавление особей со стороны\n",
    "    for _ in range(max(0, random_size)):\n",
    "        if np.random.random() < 0.5:\n",
    "            # Полностью случайная раскладка с перемешанными клавишами\n",
    "            new_population.append(mutation(generate_one(), 1.0))\n",
    "        else:\n",
    "            # Случайно изменённая лучшая (hill climbing)\n",
    "            new_population.append(mutation(new_population[0]))\n",
    "\n",
    "    return new_population"
   ]
  },
  {
   "cell_type": "markdown",
   "metadata": {
    "id": "eJN1uJyOP4ye"
   },
   "source": [
    "## Оптимизация раскладки клавиатуры с помощью генетического алгоритма"
   ]
  },
  {
   "cell_type": "code",
   "execution_count": null,
   "metadata": {
    "colab": {
     "base_uri": "https://localhost:8080/"
    },
    "id": "lo4iSLs7QL29",
    "outputId": "ffa170ea-0cc3-4f3f-9704-fe43651e8fe2"
   },
   "outputs": [
    {
     "name": "stdout",
     "output_type": "stream",
     "text": [
      "Рестарт: 1\n",
      "Поколение: 0\tЛучшее расстояние: 1382174.7\tХудшее расстояние: 2841830.8\tСреднее расстояние в популяции: 2198922.2\n",
      "Поколение: 1\tЛучшее расстояние: 1321124.0\tХудшее расстояние: 3108789.5\tСреднее расстояние в популяции: 2035698.1\n",
      "Поколение: 2\tЛучшее расстояние: 1231564.8\tХудшее расстояние: 2641597.4\tСреднее расстояние в популяции: 1896044.0\n",
      "Поколение: 3\tЛучшее расстояние: 1203328.8\tХудшее расстояние: 2663662.4\tСреднее расстояние в популяции: 1849828.9\n",
      "Поколение: 4\tЛучшее расстояние: 1187834.6\tХудшее расстояние: 2725903.9\tСреднее расстояние в популяции: 1826696.3\n",
      "Поколение: 5\tЛучшее расстояние: 1158760.2\tХудшее расстояние: 2736337.9\tСреднее расстояние в популяции: 1799068.4\n",
      "Поколение: 6\tЛучшее расстояние: 1131171.1\tХудшее расстояние: 3055070.4\tСреднее расстояние в популяции: 1787194.0\n",
      "Поколение: 8\tЛучшее расстояние: 1091758.8\tХудшее расстояние: 2861878.3\tСреднее расстояние в популяции: 1752039.7\n",
      "Поколение: 9\tЛучшее расстояние: 1009634.9\tХудшее расстояние: 2698341.2\tСреднее расстояние в популяции: 1769458.4\n",
      "Поколение: 12\tЛучшее расстояние: 1005687.3\tХудшее расстояние: 2864214.0\tСреднее расстояние в популяции: 1745749.8\n",
      "Поколение: 13\tЛучшее расстояние: 983070.4\tХудшее расстояние: 2652864.0\tСреднее расстояние в популяции: 1697597.0\n",
      "Поколение: 14\tЛучшее расстояние: 982812.8\tХудшее расстояние: 2735801.4\tСреднее расстояние в популяции: 1711678.1\n",
      "Поколение: 15\tЛучшее расстояние: 965604.9\tХудшее расстояние: 2656906.3\tСреднее расстояние в популяции: 1719856.8\n",
      "Поколение: 17\tЛучшее расстояние: 948825.4\tХудшее расстояние: 3032261.8\tСреднее расстояние в популяции: 1664735.0\n",
      "Поколение: 19\tЛучшее расстояние: 944152.4\tХудшее расстояние: 2903795.1\tСреднее расстояние в популяции: 1765941.6\n",
      "Поколение: 20\tЛучшее расстояние: 944152.4\tХудшее расстояние: 2849496.6\tСреднее расстояние в популяции: 1734112.3\n",
      "Поколение: 24\tЛучшее расстояние: 934152.4\tХудшее расстояние: 2954646.1\tСреднее расстояние в популяции: 1772189.8\n",
      "Рестарт: 2\n",
      "Рестарт: 3\n",
      "Поколение: 25\tЛучшее расстояние: 929279.5\tХудшее расстояние: 2728287.4\tСреднее расстояние в популяции: 1672804.1\n",
      "Поколение: 29\tЛучшее расстояние: 920956.9\tХудшее расстояние: 2793601.2\tСреднее расстояние в популяции: 1709331.1\n",
      "Рестарт: 4\n",
      "Поколение: 27\tЛучшее расстояние: 899244.3\tХудшее расстояние: 2658124.4\tСреднее расстояние в популяции: 1737567.0\n",
      "Рестарт: 5\n",
      "Рестарт: 6\n",
      "Рестарт: 7\n",
      "Рестарт: 8\n",
      "Рестарт: 9\n",
      "Рестарт: 10\n",
      "Рестарт: 11\n",
      "Рестарт: 12\n",
      "Рестарт: 13\n",
      "Рестарт: 14\n",
      "Рестарт: 15\n"
     ]
    }
   ],
   "source": [
    "# Параметры ГА\n",
    "POPULATION_SIZE = 300\n",
    "ELITISM_TOPK = 15\n",
    "RANDOM_SIZE = 100\n",
    "NUM_GENERATIONS = 30\n",
    "NUM_RESTARTS = 15\n",
    "\n",
    "bscore = np.inf\n",
    "stats = []\n",
    "for restart in range(NUM_RESTARTS):\n",
    "    print('Рестарт: %d' % (restart+1))\n",
    "    population = generate_initial(POPULATION_SIZE, 1.0)\n",
    "    for generation in range(NUM_GENERATIONS):\n",
    "        scores = get_scores(population)\n",
    "        population = generate_new_population(population, scores,\n",
    "                                            POPULATION_SIZE,\n",
    "                                            ELITISM_TOPK,\n",
    "                                            RANDOM_SIZE)\n",
    "        stats.append((generation, min(scores), max(scores), np.mean(scores)))\n",
    "        if min(scores) < bscore:\n",
    "            bscore = min(scores)\n",
    "            bimg = plot_keyboard(population[0], generation)\n",
    "            print(('Поколение: %d\\tЛучшее расстояние: %.1f\\t'\n",
    "                   'Худшее расстояние: %.1f\\t'\n",
    "                   'Среднее расстояние в популяции: %.1f')%stats[-1])"
   ]
  },
  {
   "cell_type": "code",
   "execution_count": null,
   "metadata": {
    "colab": {
     "base_uri": "https://localhost:8080/",
     "height": 267
    },
    "id": "syuup38-Thgm",
    "outputId": "73891c56-daef-446e-ea48-40ea78bef1eb"
   },
   "outputs": [],
   "source": [
    "# Отображение лучшей раскладки\n",
    "bimg"
   ]
  },
  {
   "cell_type": "code",
   "execution_count": null,
   "metadata": {
    "colab": {
     "base_uri": "https://localhost:8080/",
     "height": 410
    },
    "id": "zdCF6DnOQ6Br",
    "outputId": "0682a9a4-2ed7-4dc5-8f1a-523f7bd3fe37"
   },
   "outputs": [],
   "source": [
    "# Отображение графиков\n",
    "best_stats = stats[150:180]\n",
    "min_stats_list = [best_stats[i][1] for i in range(len(best_stats))]\n",
    "avg_stats_list = [best_stats[i][3] for i in range(len(best_stats))]\n",
    "gen_list = np.arange(0, NUM_GENERATIONS, dtype=int)\n",
    "\n",
    "_, ax = plt.subplots(1, 2,figsize=(21, 6))\n",
    "sns.lineplot(x=gen_list,y=min_stats_list,ax=ax[0])\n",
    "ax[0].set_title('Минимальное расстояние за поколение')\n",
    "ax[0].set_xlabel('Поколение')\n",
    "ax[0].set_ylabel('Минимальное расстояние')\n",
    "sns.lineplot(x=gen_list,y=avg_stats_list,ax=ax[1], color='orange')\n",
    "ax[1].set_title('Среднее расстояние за поколение')\n",
    "ax[1].set_xlabel('Поколение')\n",
    "ax[1].set_ylabel('Среднее расстояние')\n",
    "plt.show()"
   ]
  },
  {
   "cell_type": "markdown",
   "metadata": {
    "id": "atJSf4GeeChK"
   },
   "source": [
    "# Часть 2\n"
   ]
  },
  {
   "cell_type": "markdown",
   "metadata": {
    "id": "eUdAxc2geM2X"
   },
   "source": [
    "## DoodleJump"
   ]
  },
  {
   "cell_type": "code",
   "execution_count": null,
   "metadata": {
    "id": "Nc5YPFVTh4ku"
   },
   "outputs": [],
   "source": [
    "# Объявление глобальных переменных\n",
    "def init_states():\n",
    "    settings = dict(\n",
    "        width = 375,\n",
    "        height = 667,\n",
    "        platformWidth = 65,\n",
    "        platformHeight = 20,\n",
    "\n",
    "        gravity = 0.33,\n",
    "        drag = 0.3,\n",
    "        bounceVelocity = -12.5,\n",
    "\n",
    "        minPlatformSpace = 15,\n",
    "        maxPlatformSpace = 20,\n",
    "        keydown = False,\n",
    "        score = 0,\n",
    "    )\n",
    "    settings['platformStart'] = settings['height'] - 50\n",
    "\n",
    "    platforms = [dict(x=settings['width'] / 2 - settings['platformWidth'] / 2,\n",
    "                      y=settings['platformStart'])]\n",
    "    y = settings['platformStart']\n",
    "    while (y > 0):\n",
    "        y -= settings['platformHeight'] + \\\n",
    "             np.random.randint(settings['minPlatformSpace'],\n",
    "                               settings['maxPlatformSpace'])\n",
    "\n",
    "        while True:\n",
    "            x = np.random.uniform(25, settings['width'] \\\n",
    "                                  - 25 - settings['platformWidth'])\n",
    "            if not ((y > settings['height'] / 2) and\n",
    "                    (x > settings['width'] / 2 \n",
    "                     - settings['platformWidth'] * 1.5) and\n",
    "                    (x < settings['width'] / 2 \n",
    "                     + settings['platformWidth'] / 2)):\n",
    "                break\n",
    "        platforms.append(dict(x=x, y=y))\n",
    "\n",
    "    doodle = dict(\n",
    "      width=40,\n",
    "      height=60,\n",
    "      x=settings['width'] / 2 - 20,\n",
    "      y=settings['platformStart'] - 60,\n",
    "      dx=0,\n",
    "      dy=0,\n",
    "      playerDir=0,\n",
    "      prevDoodleY=settings['platformStart'] - 60,\n",
    "    )\n",
    "\n",
    "    return doodle, platforms, settings\n",
    "\n",
    "doodle, platforms, settings = init_states()"
   ]
  },
  {
   "cell_type": "markdown",
   "metadata": {
    "id": "Ee_bZRUliDnj"
   },
   "source": [
    "### Логика игры"
   ]
  },
  {
   "cell_type": "code",
   "execution_count": null,
   "metadata": {
    "id": "BsPmsPXoiCEj"
   },
   "outputs": [],
   "source": [
    "def restart():\n",
    "    doodle, platforms, settings = init_states()\n",
    "    return doodle, platforms, settings\n",
    "\n",
    "\n",
    "def loop(doodle, platforms, settings):\n",
    "    doodle['dy'] += settings['gravity']\n",
    "\n",
    "    if (doodle['y'] < settings['height'] / 2 and doodle['dy'] < 0):\n",
    "        for i, _ in enumerate(platforms):\n",
    "            platforms[i]['y'] -= doodle['dy']\n",
    "\n",
    "        while (platforms[-1]['y'] > 0):\n",
    "            platforms.append(dict(\n",
    "                x=np.random.uniform(25,\n",
    "                                    settings['width'] - 25\n",
    "                                    - settings['platformWidth']),\n",
    "                y=np.random.uniform(platforms[-1]['y'] -\n",
    "                                    (settings['platformHeight'] +\n",
    "                                     np.random.uniform(\n",
    "                                         settings['minPlatformSpace'],\n",
    "                                         settings['maxPlatformSpace']))\n",
    "                                    )\n",
    "                                )\n",
    "                            )\n",
    "\n",
    "            settings['minPlatformSpace'] = min(settings['minPlatformSpace'] \n",
    "                                               + 0.5,\n",
    "                                               settings['height'] / 2 - 0.5)\n",
    "            settings['maxPlatformSpace'] = min(settings['maxPlatformSpace'] \n",
    "                                               + 0.5,\n",
    "                                               settings['height'] / 2)\n",
    "    else:\n",
    "        doodle['y'] += doodle['dy']\n",
    "\n",
    "    if not settings['keydown']:\n",
    "        if (doodle['playerDir'] < 0):\n",
    "            doodle['dx'] += settings['drag'];\n",
    "            if (doodle['dx'] > 0):\n",
    "                doodle['dx'] = 0\n",
    "                doodle['playerDir'] = 0\n",
    "        elif (doodle['playerDir'] > 0):\n",
    "            doodle['dx'] -= settings['drag']\n",
    "\n",
    "            if (doodle['dx'] < 0):\n",
    "                doodle['dx'] = 0\n",
    "                doodle['playerDir'] = 0\n",
    "\n",
    "    doodle['x'] += doodle['dx']\n",
    "\n",
    "    if (doodle['x'] + doodle['width'] < 0):\n",
    "        doodle['x'] = settings['width']\n",
    "    elif (doodle['x'] > settings['width']):\n",
    "        doodle['x'] = -doodle['width']\n",
    "\n",
    "    for platform in platforms:\n",
    "        if (\n",
    "          (doodle['dy'] > 0) and\n",
    "          (doodle['prevDoodleY'] + doodle['height'] <= platform['y']) and\n",
    "          (doodle['x'] < platform['x'] + settings['platformWidth']) and\n",
    "          (doodle['x'] + doodle['width'] > platform['x']) and\n",
    "          (doodle['y'] < platform['y'] + settings['platformHeight']) and\n",
    "          (doodle['y'] + doodle['height'] > platform['y'])\n",
    "        ):\n",
    "            doodle['y'] = platform['y'] - doodle['height']\n",
    "            doodle['dy'] = settings['bounceVelocity']\n",
    "\n",
    "    doodle['prevDoodleY'] = doodle['y']\n",
    "    platforms_cleared = len(platforms)\n",
    "    platforms = list(filter(lambda platform: platform['y'] < settings['height'],\n",
    "                            platforms))\n",
    "    platforms_cleared -= len(platforms)\n",
    "    settings['score'] += platforms_cleared\n",
    "\n",
    "    if doodle['y'] > settings['height'] + doodle['height']:\n",
    "        return -1\n",
    "    return 0"
   ]
  },
  {
   "cell_type": "markdown",
   "metadata": {
    "id": "ELwVOv25iL1F"
   },
   "source": [
    "### Действия агента"
   ]
  },
  {
   "cell_type": "code",
   "execution_count": null,
   "metadata": {
    "id": "FVHkhC8BiIKd"
   },
   "outputs": [],
   "source": [
    "actionMap = {0: 37, # Движение влево\n",
    "             1: 39, # Движение вправо\n",
    "             2: -1} # Ожидание\n",
    "\n",
    "def apply_action(doodle, platforms, settings, actionId):\n",
    "    key = actionMap[actionId]\n",
    "\n",
    "    if key == 37:\n",
    "        settings['keydown'] = True\n",
    "        settings['playerDir'] = -1\n",
    "        doodle['dx'] = -3\n",
    "    elif key == 39:\n",
    "        settings['keydown'] = True\n",
    "        settings['playerDir'] = 1\n",
    "        doodle['dx'] = 3\n",
    "    else:\n",
    "        settings['keydown'] = False"
   ]
  },
  {
   "cell_type": "markdown",
   "metadata": {
    "id": "mRWagi4iiWNP"
   },
   "source": [
    "### Признаки для интеллектуального агента"
   ]
  },
  {
   "cell_type": "code",
   "execution_count": null,
   "metadata": {
    "id": "R2Gs_qU5iYQG"
   },
   "outputs": [],
   "source": [
    "# Агент видел значения в этих пикселях\n",
    "sensor_web = np.meshgrid(np.arange(-settings['width']*2//3,\n",
    "                                   +settings['width']*2//3, 50),\n",
    "                         np.arange(-settings['height']*2//3,\n",
    "                                   +settings['height']*2//3, 75))\n",
    "sensor_web = np.concatenate([sensor_web[0].flatten()[:, None],\n",
    "                             sensor_web[1].flatten()[:, None]], axis=1)"
   ]
  },
  {
   "cell_type": "code",
   "execution_count": null,
   "metadata": {
    "colab": {
     "base_uri": "https://localhost:8080/"
    },
    "id": "DT9go6b8icfD",
    "outputId": "fc441b7e-b65a-401d-f9b0-89680be9b6ef"
   },
   "outputs": [],
   "source": [
    "def get_features(doodle, platforms, settings):\n",
    "    points = np.array([(p['x'], p['y']) for p in platforms])\n",
    "\n",
    "    sensor_x = (sensor_web[:, 0]*1 + doodle['x']) % settings['width']\n",
    "    sensor_y = np.clip((sensor_web[:, 1]*1 + doodle['y']),\n",
    "                       1, settings['height']-1)\n",
    "\n",
    "    xx = sensor_x.reshape(-1, 1) - points[:, 0]\n",
    "    yy = sensor_y.reshape(-1, 1) - points[:, 1]\n",
    "    cond1 = (xx - settings['platformWidth']) < 0\n",
    "    cond2 = (xx) > 0\n",
    "    cond3 = (yy - settings['platformHeight']) < 0\n",
    "    cond4 = (yy) > 0\n",
    "\n",
    "    sensors = ((cond1*cond2*cond3*cond4).any(axis=1))*1.\n",
    "    return np.concatenate([sensors, [doodle['dx'],\n",
    "                                     doodle['dy'],\n",
    "                                     1]])\n",
    "\n",
    "%timeit get_features(doodle, platforms, settings)"
   ]
  },
  {
   "cell_type": "markdown",
   "metadata": {
    "id": "55AUwFmiikWw"
   },
   "source": [
    "### \"Мозги\" агента"
   ]
  },
  {
   "cell_type": "code",
   "execution_count": null,
   "metadata": {
    "colab": {
     "base_uri": "https://localhost:8080/"
    },
    "id": "NuMETnNEigxW",
    "outputId": "30b2d4da-3a3d-4570-b1e5-3b60b346ba11"
   },
   "outputs": [],
   "source": [
    "def get_one(h1=5, n_classes=3):\n",
    "    W = np.random.normal(size=(sensor_web.shape[0]+3, h1))\n",
    "    W2 = np.random.normal(size=(h1, n_classes))\n",
    "    return W, W2\n",
    "\n",
    "def softmax(x):\n",
    "    xe = np.exp(x-x.max())\n",
    "    return xe/xe.sum()\n",
    "\n",
    "def getAction(doodle, platforms, settings, weights):\n",
    "    W, W2 = weights\n",
    "    logits = np.maximum(W.T.dot(get_features(doodle, platforms, settings)),\n",
    "                        0).dot(W2)\n",
    "    # Действия выбираются не детерминированно, а вероятностно\n",
    "    return np.random.choice(np.arange(logits.size), p=softmax(logits))\n",
    "\n",
    "getAction(doodle, platforms, settings, get_one())"
   ]
  },
  {
   "cell_type": "markdown",
   "metadata": {
    "id": "aDxKQo_0ix19"
   },
   "source": [
    "## Генетический алгоритм"
   ]
  },
  {
   "cell_type": "markdown",
   "metadata": {
    "id": "Uz3lhYJWi56U"
   },
   "source": [
    "### Функция приспособленности"
   ]
  },
  {
   "cell_type": "code",
   "execution_count": null,
   "metadata": {
    "id": "S_uzKHMli3RW"
   },
   "outputs": [],
   "source": [
    "def get_score(W, patience=100, return_actions=False):\n",
    "    doodle, platforms, settings = restart()\n",
    "    maxScore_patience = patience\n",
    "    maxScore_prev = settings['minPlatformSpace']\n",
    "    actions = []\n",
    "    xcoords = []\n",
    "    action = getAction(doodle, platforms, settings, W)\n",
    "    for _ in range(int(5e4)):\n",
    "        if loop(doodle, platforms, settings) == -1:\n",
    "            break\n",
    "        # симуляция запоздалой реакции агента\n",
    "        if np.random.random() < 0.25:\n",
    "            action = getAction(doodle, platforms, settings, W)\n",
    "        actions.append(action)\n",
    "        xcoords.append(doodle['x'])\n",
    "        apply_action(doodle, platforms, settings, action)\n",
    "        if  settings['minPlatformSpace'] > maxScore_prev:\n",
    "            maxScore_prev = settings['minPlatformSpace']\n",
    "            maxScore_patience = patience\n",
    "        maxScore_patience -= 1\n",
    "        if maxScore_patience < 0:\n",
    "            break\n",
    "    if return_actions:\n",
    "        return actions, xcoords, settings['minPlatformSpace']\n",
    "    return settings['minPlatformSpace']"
   ]
  },
  {
   "cell_type": "markdown",
   "metadata": {
    "id": "fa7tyC1qjER9"
   },
   "source": [
    "### Функции мутации и скрещивания"
   ]
  },
  {
   "cell_type": "code",
   "execution_count": null,
   "metadata": {
    "id": "9zQGQjFVjH0G"
   },
   "outputs": [],
   "source": [
    "def mutate(weights, mutation_rate=0.028):\n",
    "    W, W2 = weights\n",
    "    dW, dW2 = get_one()\n",
    "    dM, dM2 = get_one()\n",
    "    return W + dW*(dM>0)*mutation_rate, W2 + dW2*(dM2>0)*mutation_rate\n",
    "\n",
    "\n",
    "def crossover(W1, W2):\n",
    "    result = []\n",
    "    for w1, w2 in zip(W1, W2):\n",
    "        maskW = np.random.random(w1.shape)<0.5\n",
    "        result.append(w1*maskW+w2*(~maskW))\n",
    "    return result"
   ]
  },
  {
   "cell_type": "markdown",
   "metadata": {
    "id": "a_40BDxjjPC8"
   },
   "source": [
    "### Функции популяций"
   ]
  },
  {
   "cell_type": "code",
   "execution_count": null,
   "metadata": {
    "id": "mnoOQmykjOWA"
   },
   "outputs": [],
   "source": [
    "def generate_random(population, size):\n",
    "    new_population = []\n",
    "    for _ in range(size):\n",
    "        if np.random.random()<0.5:\n",
    "            new_population.append(get_one())\n",
    "        else:\n",
    "            new_population.append(mutate(population[0]))\n",
    "    return new_population\n",
    "\n",
    "\n",
    "def selection(population, scores, topK=2):\n",
    "    scores = np.array(scores)*1.\n",
    "    scores /= scores.sum()\n",
    "    elitismTopK = np.argsort(scores)[::-1][:topK//2]\n",
    "    roulleteTopK = np.random.choice(len(scores),\n",
    "                                    p=scores,\n",
    "                                    size=topK//2)\n",
    "\n",
    "    new_population = [tuple(map(lambda x: x.copy(), population[i]))\n",
    "                      for i in elitismTopK]+\\\n",
    "                     [tuple(map(lambda x: x.copy(), population[i]))\n",
    "                      for i in roulleteTopK]\n",
    "\n",
    "    return new_population\n",
    "\n",
    "\n",
    "def breed(population, scores, nChilds=10):\n",
    "    scores = np.array(scores)*1.\n",
    "    scores /= scores.sum()\n",
    "    parents = np.random.choice(len(scores),\n",
    "                               p=scores,\n",
    "                               size=(nChilds, 2))\n",
    "\n",
    "    new_population = []\n",
    "    for parentA, parentB in parents:\n",
    "        new_population.append(mutate(crossover(population[parentA],\n",
    "                                               population[parentB])))\n",
    "\n",
    "    return new_population\n",
    "\n",
    "def factorize(population, factor=3):\n",
    "    for i, p in enumerate(population):\n",
    "        population[i] = tuple([np.array([[int(10**factor*w)/10**factor\n",
    "                                          for w in W]\n",
    "                                         for W in pp])\n",
    "                               for pp in p])\n",
    "    return population\n",
    "\n",
    "\n",
    "def get_new_population(population, scores, topK=4, randomNum=10):\n",
    "    return factorize(\n",
    "    selection(population, scores, topK) + \\\n",
    "    breed(population, scores,\n",
    "          nChilds=max(0, len(population) - randomNum - topK)) + \\\n",
    "    generate_random(population, randomNum)\n",
    "    )"
   ]
  },
  {
   "cell_type": "markdown",
   "metadata": {
    "id": "WLks-mKljaSW"
   },
   "source": [
    "### Вспомогательные функции"
   ]
  },
  {
   "cell_type": "code",
   "execution_count": null,
   "metadata": {
    "id": "DhLC1_XbjZsX"
   },
   "outputs": [],
   "source": [
    "def get_scores(population, patience=100):\n",
    "    scores = []\n",
    "    for W in population:\n",
    "        scores.append(get_score(W, patience))\n",
    "    return scores"
   ]
  },
  {
   "cell_type": "code",
   "execution_count": null,
   "metadata": {
    "id": "bBRLR7v4jgsc"
   },
   "outputs": [],
   "source": [
    "# Сохранение чекпоинта \"мозгов\" интеллектуального агента\n",
    "def save_thingey(best_thingey, score):\n",
    "    with open('doodlejump_weights_%.1f.js'%score, 'w') as f:\n",
    "        f.write('var sensorWeb = %s;\\n\\nvar W = %s;\\n\\nvar W2 = %s;\\n'%\n",
    "                (json.dumps([[int(w) for w in W] for W in sensor_web]),\n",
    "                 json.dumps([[int(1e2*w)/1e2 for w in W]\n",
    "                             for W in best_thingey[0]]),\n",
    "                 json.dumps([[int(1e2*w)/1e2 for w in W]\n",
    "                             for W in best_thingey[1]])))"
   ]
  },
  {
   "cell_type": "markdown",
   "metadata": {
    "id": "CzOtoEFljpNA"
   },
   "source": [
    "## Обучение агента"
   ]
  },
  {
   "cell_type": "code",
   "execution_count": null,
   "metadata": {
    "colab": {
     "base_uri": "https://localhost:8080/"
    },
    "id": "DgeJHFrsjsXM",
    "outputId": "12189c9a-2562-4eda-c0cf-73ebf66c574f"
   },
   "outputs": [],
   "source": [
    "# Параметры\n",
    "POPULATION_SIZE = 256\n",
    "RANDOM_SIZE = 12\n",
    "ELITE_SIZE = 6\n",
    "NUM_GENERATIONS = 300\n",
    "NUM_REPEATS = 3\n",
    "NUM_RESTARTS = 1\n",
    "PATIENCE = lambda x: 100*((x+2)//2)\n",
    "population = [get_one() for _ in range(POPULATION_SIZE)]\n",
    "\n",
    "best_thingey = None\n",
    "best_score = 0\n",
    "\n",
    "for n_restart in range(NUM_RESTARTS):\n",
    "    print('='*50)\n",
    "    print('Cтарт перезапуска №%d'%(n_restart+1))\n",
    "    print('Лучшая пока что: %.1f'%best_score)\n",
    "    print('='*50)\n",
    "    population = [get_one() for _ in range(POPULATION_SIZE)]\n",
    "    for generation in range(NUM_GENERATIONS):\n",
    "        scores = 0.\n",
    "        for _ in range(NUM_REPEATS):\n",
    "            scores += np.array(get_scores(population, PATIENCE(generation)))**4\n",
    "        scores /= NUM_REPEATS\n",
    "\n",
    "        population = get_new_population(population, scores,\n",
    "                                        topK=ELITE_SIZE,\n",
    "                                        randomNum=RANDOM_SIZE)\n",
    "        bscore = max(scores)**0.25\n",
    "        if generation%5 == 0 or bscore > best_score:\n",
    "          if bscore > best_score:\n",
    "            best_score = bscore\n",
    "            best_thingey = [x.copy() for x in population[0]]\n",
    "          print('Рестарт: %d\\tПоколение: %d\\tЗначение: %.1f'%(n_restart+1,\n",
    "                                                                generation,\n",
    "                                                                bscore))\n",
    "          if bscore > 120:\n",
    "              save_thingey(best_thingey, best_score)\n",
    "              save_thingey(best_thingey, best_score)"
   ]
  },
  {
   "cell_type": "code",
   "execution_count": null,
   "metadata": {},
   "outputs": [],
   "source": []
  }
 ],
 "metadata": {
  "colab": {
   "provenance": []
  },
  "jupytext": {
   "main_language": "python"
  },
  "kernelspec": {
   "display_name": "Python 3 (ipykernel)",
   "language": "python",
   "name": "python3"
  },
  "language_info": {
   "codemirror_mode": {
    "name": "ipython",
    "version": 3
   },
   "file_extension": ".py",
   "mimetype": "text/x-python",
   "name": "python",
   "nbconvert_exporter": "python",
   "pygments_lexer": "ipython3",
   "version": "3.10.8"
  }
 },
 "nbformat": 4,
 "nbformat_minor": 1
}
